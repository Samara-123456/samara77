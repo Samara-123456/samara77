{
  "nbformat": 4,
  "nbformat_minor": 0,
  "metadata": {
    "colab": {
      "provenance": [],
      "authorship_tag": "ABX9TyM4vEWJR2zz0qBN9HmOzj7p",
      "include_colab_link": true
    },
    "kernelspec": {
      "name": "python3",
      "display_name": "Python 3"
    },
    "language_info": {
      "name": "python"
    }
  },
  "cells": [
    {
      "cell_type": "markdown",
      "metadata": {
        "id": "view-in-github",
        "colab_type": "text"
      },
      "source": [
        "<a href=\"https://colab.research.google.com/github/Samara-123456/samara77/blob/main/json_task.ipynb\" target=\"_parent\"><img src=\"https://colab.research.google.com/assets/colab-badge.svg\" alt=\"Open In Colab\"/></a>"
      ]
    },
    {
      "cell_type": "code",
      "execution_count": 4,
      "metadata": {
        "id": "HwaEnVf8ZpYs"
      },
      "outputs": [],
      "source": [
        "import csv\n",
        "import json\n",
        "\n",
        "def generate_student_json(csv_file, json_file): #generating function for json_file.\n",
        "    student_data = {}\n",
        "\n",
        "    with open(csv_file, 'r') as file:   #opening the csv file and reading the data\n",
        "        csv_reader = csv.DictReader(file)\n",
        "\n",
        "        for row in csv_reader:\n",
        "            reg_no= row['reg no']  #here declaring the data to be printed according to Registration Number\n",
        "            student_details = {\n",
        "                'Name': row['Name of the Student'],  #declaring all the data to be printed in this order\n",
        "                'Mid1 Marks': row['mid 1 marks'],\n",
        "                'Mid2 Marks': row['mid 2 marks'],\n",
        "                'Total Marks': row['Total marks']\n",
        "            }\n",
        "            student_data[reg_no] = student_details #output will be print according to registration number wise.\n",
        "\n",
        "    with open(json_file, 'w') as json_file:\n",
        "        json.dump(student_data, json_file, indent=4)\n",
        "\n",
        "\n",
        "csv_file = 'student_data.csv'\n",
        "json_file = 'student_details.json'\n",
        "\n",
        "generate_student_json(csv_file, json_file)\n"
      ]
    },
    {
      "cell_type": "code",
      "source": [],
      "metadata": {
        "id": "arkqJjelb0Wn"
      },
      "execution_count": null,
      "outputs": []
    }
  ]
}