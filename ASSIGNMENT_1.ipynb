{
  "cells": [
    {
      "cell_type": "code",
      "execution_count": null,
      "metadata": {
        "colab": {
          "base_uri": "https://localhost:8080/"
        },
        "id": "ugZpQko0P2Qe",
        "outputId": "d335c02b-95df-416c-9cb0-52e7f53cc984"
      },
      "outputs": [
        {
          "name": "stdout",
          "output_type": "stream",
          "text": [
            "<class 'str'>\n",
            "25\n"
          ]
        }
      ],
      "source": [
        " a = \"samara\" #1st question\n",
        " print(type(a))\n",
        " age = 20\n",
        " new=age+5\n",
        " print(new)"
      ]
    },
    {
      "cell_type": "code",
      "execution_count": null,
      "metadata": {
        "colab": {
          "base_uri": "https://localhost:8080/"
        },
        "id": "6Gv4RTabUZWe",
        "outputId": "3a79eb93-d8cc-46fa-f777-2eb2a424b4b2"
      },
      "outputs": [
        {
          "name": "stdout",
          "output_type": "stream",
          "text": [
            "Python\n",
            "PYTHONISAMAZING\n",
            "Pythonisawesome\n"
          ]
        }
      ],
      "source": [
        "a = \"PythonisAmazing\"  #2nd question\n",
        "\n",
        "print(a[:6])\n",
        "print(a.upper())\n",
        "print(a.replace(\"Amazing\",\"awesome\"))"
      ]
    },
    {
      "cell_type": "code",
      "execution_count": null,
      "metadata": {
        "colab": {
          "base_uri": "https://localhost:8080/"
        },
        "id": "eu5n6nxFWB-_",
        "outputId": "8faac236-e2c0-4ff4-86f0-0644b5e6573f"
      },
      "outputs": [
        {
          "output_type": "stream",
          "name": "stdout",
          "text": [
            "['apple', 'banana', 'cherry', 'date', 'redberry']\n",
            "['apple', 'cherry', 'date', 'redberry']\n",
            "['redberry', 'date', 'cherry', 'apple']\n"
          ]
        }
      ],
      "source": [
        "fruits = [\"apple\", \"banana\", \"cherry\", \"date\"]  #3rd Question\n",
        "fruits.insert(4,\"redberry\")\n",
        "print(fruits)\n",
        "fruits.remove(\"banana\")\n",
        "print(fruits)\n",
        "fruits.reverse()\n",
        "print(fruits)"
      ]
    },
    {
      "cell_type": "code",
      "source": [
        "alphabets = (\"x\", \"y\", \"z\")   #4th question tuple\n",
        "(a,b,c) = alphabets\n",
        "print(a)\n",
        "print(b)\n",
        "print(c)"
      ],
      "metadata": {
        "colab": {
          "base_uri": "https://localhost:8080/"
        },
        "id": "9K4u9J9nb66M",
        "outputId": "3bd6d967-a6d0-4fae-edae-8bb1e5ced2ba"
      },
      "execution_count": null,
      "outputs": [
        {
          "output_type": "stream",
          "name": "stdout",
          "text": [
            "x\n",
            "y\n",
            "z\n"
          ]
        }
      ]
    },
    {
      "cell_type": "code",
      "source": [
        "info = dict(name=\"samara\", age = 20, course = \"python\") #5th question dictionaries\n",
        "print(info)\n",
        "x = info.keys()\n",
        "info[\"grade\"] = \"A\"\n",
        "print(x)\n",
        "info[\"age\"] += 1\n",
        "print(info)\n",
        "info.pop(\"course\")\n",
        "print(info)\n",
        "\n"
      ],
      "metadata": {
        "colab": {
          "base_uri": "https://localhost:8080/"
        },
        "id": "SImK93GDoN4q",
        "outputId": "96afbd8a-4060-4fbb-cd27-b6c1f41a0438"
      },
      "execution_count": 84,
      "outputs": [
        {
          "output_type": "stream",
          "name": "stdout",
          "text": [
            "{'name': 'samara', 'age': 20, 'course': 'python'}\n",
            "dict_keys(['name', 'age', 'course', 'grade'])\n",
            "{'name': 'samara', 'age': 21, 'course': 'python', 'grade': 'A'}\n",
            "{'name': 'samara', 'age': 21, 'grade': 'A'}\n"
          ]
        }
      ]
    },
    {
      "cell_type": "code",
      "source": [
        "# 6th question sets\n",
        "colors = {\"red\",\"green\", \"blue\"}\n",
        "colors.add(\"yellow\")\n",
        "print(colors)\n",
        "print(\"black\" in colors)\n",
        "colors.remove(\"green\")\n",
        "print(colors)"
      ],
      "metadata": {
        "colab": {
          "base_uri": "https://localhost:8080/"
        },
        "id": "tIMhVncpqVHm",
        "outputId": "a738d12c-dbbd-4a78-f125-c4fba553c7fc"
      },
      "execution_count": null,
      "outputs": [
        {
          "output_type": "stream",
          "name": "stdout",
          "text": [
            "{'yellow', 'red', 'blue', 'green'}\n",
            "False\n",
            "{'yellow', 'red', 'blue'}\n"
          ]
        }
      ]
    },
    {
      "cell_type": "code",
      "source": [
        "#7th question conversion list to tuple and string to int and float.\n",
        "s =\"123\"\n",
        "y=int(s)\n",
        "print(y)\n",
        "fruits = [\"banana\", \"apple\"]\n",
        "y=tuple(fruits)\n",
        "print(y)\n",
        "y=float(s)\n",
        "print(y)\n"
      ],
      "metadata": {
        "colab": {
          "base_uri": "https://localhost:8080/"
        },
        "id": "UhQDIcI-qsDg",
        "outputId": "7b0ce2c5-9e3c-4f04-f67d-278c98ac8b55"
      },
      "execution_count": 81,
      "outputs": [
        {
          "output_type": "stream",
          "name": "stdout",
          "text": [
            "123\n",
            "('banana', 'apple')\n",
            "123.0\n"
          ]
        }
      ]
    },
    {
      "cell_type": "code",
      "source": [
        "#8th question\n",
        "def type_counter(input): #declaring the function type_counter\n",
        "    type_count = {}\n",
        "\n",
        "    for item in input:\n",
        "        datatype = type(item).__name__\n",
        "        if datatype in type_count:\n",
        "            type_count[datatype] += 1\n",
        "        else:\n",
        "            type_count[datatype] = 1\n",
        "\n",
        "    return type_count\n",
        "\n",
        "\n",
        "input = [1, \"samara\", 3.14, [1,2,3], (4,5,6)]\n",
        "result = type_counter(input_list)\n",
        "print(result)\n"
      ],
      "metadata": {
        "colab": {
          "base_uri": "https://localhost:8080/"
        },
        "id": "bvDBwt_Zuw57",
        "outputId": "07933177-3a51-410e-f4db-41cd9911b40f"
      },
      "execution_count": 75,
      "outputs": [
        {
          "output_type": "stream",
          "name": "stdout",
          "text": [
            "{'int': 1, 'str': 1, 'float': 1, 'list': 1, 'tuple': 1}\n"
          ]
        }
      ]
    },
    {
      "cell_type": "code",
      "source": [],
      "metadata": {
        "id": "EulJRmivzDo7"
      },
      "execution_count": null,
      "outputs": []
    }
  ],
  "metadata": {
    "colab": {
      "provenance": []
    },
    "kernelspec": {
      "display_name": "Python 3",
      "name": "python3"
    },
    "language_info": {
      "name": "python"
    }
  },
  "nbformat": 4,
  "nbformat_minor": 0
}